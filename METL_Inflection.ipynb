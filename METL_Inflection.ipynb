{
  "cells": [
    {
      "cell_type": "markdown",
      "metadata": {
        "id": "view-in-github",
        "colab_type": "text"
      },
      "source": [
        "<a href=\"https://colab.research.google.com/github/fabrice-camus/UNIGE-MA2a-METL-Projet-Inflection/blob/master/METL_Inflection.ipynb\" target=\"_parent\"><img src=\"https://colab.research.google.com/assets/colab-badge.svg\" alt=\"Open In Colab\"/></a>"
      ]
    },
    {
      "cell_type": "markdown",
      "metadata": {
        "id": "1_5IYD3mFfQC"
      },
      "source": [
        "# METL // Projet - Morphological Inflection"
      ]
    },
    {
      "cell_type": "markdown",
      "metadata": {
        "id": "9gjbIORxFa8Z"
      },
      "source": [
        "author = \"Fabrice Camus\"\n",
        "\n",
        "module = \"METL // SP 2021-2022\"\n",
        "\n",
        "version = \"1.0\"\n",
        "\n",
        "date = \"14.05.2022\"\n",
        "\n",
        "description = \"Given a lemma and POS, generate an inflected form, by using a seq2seq model\"\n",
        "\n"
      ]
    },
    {
      "cell_type": "markdown",
      "source": [
        "#1. Clone GitHub Repository"
      ],
      "metadata": {
        "id": "4HfPw_mTdEfH"
      }
    },
    {
      "cell_type": "code",
      "source": [
        "repo = 'UNIGE-MA2a-METL-Projet-Inflection'"
      ],
      "metadata": {
        "id": "QGFELmKNdiO2"
      },
      "execution_count": 17,
      "outputs": []
    },
    {
      "cell_type": "code",
      "source": [
        "!git clone https://github.com/fabrice-camus/{repo}.git"
      ],
      "metadata": {
        "id": "V9pvl5PPc5tU",
        "colab": {
          "base_uri": "https://localhost:8080/"
        },
        "outputId": "9b6f7bfd-2e4d-406a-dc5d-a1c9de6bffa3"
      },
      "execution_count": 18,
      "outputs": [
        {
          "output_type": "stream",
          "name": "stdout",
          "text": [
            "Cloning into 'UNIGE-MA2a-METL-Projet-Inflection'...\n",
            "remote: Enumerating objects: 84, done.\u001b[K\n",
            "remote: Counting objects: 100% (84/84), done.\u001b[K\n",
            "remote: Compressing objects: 100% (63/63), done.\u001b[K\n",
            "remote: Total 84 (delta 32), reused 69 (delta 19), pack-reused 0\u001b[K\n",
            "Unpacking objects: 100% (84/84), done.\n"
          ]
        }
      ]
    },
    {
      "cell_type": "code",
      "source": [
        "%cd {repo}"
      ],
      "metadata": {
        "id": "lDORjtg3dUq8",
        "colab": {
          "base_uri": "https://localhost:8080/"
        },
        "outputId": "4f9d878b-1eb1-4d4c-c01b-40692d1d7dd7"
      },
      "execution_count": 19,
      "outputs": [
        {
          "output_type": "stream",
          "name": "stdout",
          "text": [
            "/content/UNIGE-MA2a-METL-Projet-Inflection/UNIGE-MA2a-METL-Projet-Inflection\n"
          ]
        }
      ]
    },
    {
      "cell_type": "markdown",
      "metadata": {
        "id": "XzNbjckOBhmz"
      },
      "source": [
        "#2. Preparing Data"
      ]
    },
    {
      "cell_type": "code",
      "source": [
        "#!pip install -r requirements.txt"
      ],
      "metadata": {
        "id": "oIzxPkPehs8C"
      },
      "execution_count": null,
      "outputs": []
    },
    {
      "cell_type": "code",
      "execution_count": 20,
      "metadata": {
        "id": "SbYCZpitkR11"
      },
      "outputs": [],
      "source": [
        "# MorphoInflection_dataset\n",
        "\n",
        "import numpy as np\n",
        "from numpy import array\n",
        "from torch.utils.data import Dataset, DataLoader\n",
        "import torch\n",
        "from torch.nn.utils.rnn import pad_sequence\n",
        "from itertools import zip_longest\n",
        "\n",
        "\n",
        "START_CHAR ='<'\n",
        "END_CHAR ='>'\n",
        "EMPTY_CHAR =''\n",
        "\n",
        "#Pad two lists to have same length\n",
        "def pad(*lists, padding=0):\n",
        "    padded = [[] for _ in lists]\n",
        "\n",
        "    for lst in zip_longest(*lists, fillvalue=padding):\n",
        "        for i, elem in enumerate(lst):\n",
        "            padded[i].append(elem)\n",
        "\n",
        "    return padded\n",
        "\n",
        "#custom collate for batch creation (dataloader)\n",
        "def my_custom_collate(data):\n",
        "    # data is a list of tuples\n",
        "    x = [torch.tensor(d[0],dtype=torch.long) for d in data]\n",
        "    y = [torch.tensor(d[1],dtype=torch.long) for d in data]\n",
        "    x = pad_sequence(x, batch_first=True)\n",
        "    y = pad_sequence(y, batch_first=True)\n",
        "    l = [d[2] for d in data]\n",
        "    msd = [d[3] for d in data]\n",
        "    return x,y,l, msd\n",
        "\n",
        "\n",
        "class MorphoInflectionDataset(Dataset):\n",
        "  def __init__(self):\n",
        "    super(MorphoInflectionDataset, self).__init__()\n",
        "    self.token2id={}\n",
        "    self.token2id[EMPTY_CHAR] = 0\n",
        "    self.token2id[START_CHAR] = 1\n",
        "    self.token2id[END_CHAR] = 2\n",
        "\n",
        "    self.id2token=[]\n",
        "    self.vocab_size=0\n",
        "\n",
        "\n",
        "  # load file and extract lines\n",
        "  def create_dataset(self,filename):\n",
        "    #file is encoded in utf-8 \n",
        "    with open(filename, encoding='utf_8') as f:\n",
        "      lines = f.readlines()\n",
        "      lines = [line.rstrip() for line in lines]\n",
        "     \n",
        "    #load raw data\n",
        "    self.corpus = lines\n",
        "    # create/update vocabulary and input/output in text format\n",
        "    self.input, self.output, self.lemmas, self.msd = self.__build_raw_data__()\n",
        "    #size of vocabulary\n",
        "    self.vocab_size = len(self.token2id)\n",
        "\n",
        "    # create a vector with token's id instead of text\n",
        "    self.input_id = [self.__tokens2id__(input) for input in self.input]\n",
        "    self.output_id = [self.__tokens2id__(output) for output in self.output]\n",
        "\n",
        "    # pad to have same length    \n",
        "    for i in range(len(self.input_id)):\n",
        "      self.input_id[i-1], self.output_id[i-1] = pad(self.input_id[i-1], self.output_id[i-1])\n",
        "\n",
        "\n",
        "  # create/update vocabulary, input and output raw data\n",
        "  def __build_raw_data__(self):\n",
        "  \n",
        "    #start index\n",
        "    index=len(self.token2id)\n",
        "    lemmas=[]\n",
        "    msds=[]\n",
        "    input = []\n",
        "    output = []\n",
        "    # extract token (char) and construct all we need\n",
        "    for line in self.corpus:\n",
        "      \n",
        "      datas=line.split('\\t')\n",
        "      \n",
        "      lemma=datas[0]\n",
        "      lemmas.append(lemma)\n",
        "      msd=datas[1]\n",
        "      msds.append(msd)\n",
        "      inflected_form=datas[2]\n",
        "      \n",
        "      lemma_chars=[]\n",
        "      \n",
        "      #split ääkköstää into char list\n",
        "      for c in lemma:\n",
        "        lemma_chars.append(c)\n",
        "        if c not in self.token2id:\n",
        "          self.token2id[c]=index\n",
        "          index+=1\n",
        "      \n",
        "      #idem for inflected form\n",
        "      inflected_form_chars = []\n",
        "      for c in inflected_form:\n",
        "        inflected_form_chars.append(c)\n",
        "        if c not in self.token2id:\n",
        "          self.token2id[c]=index\n",
        "          index+=1\n",
        "      \n",
        "\n",
        "      #extract POS-TAG : each pos-tag is a token \n",
        "      msd_tags=msd.split(',')\n",
        "      msd_chars_input=[]  \n",
        "      msd_chars_output=[]\n",
        "      for tag in msd_tags:\n",
        "        msd_chars_input.append(tag)\n",
        "        msd_chars_output.append(EMPTY_CHAR)\n",
        "        if tag not in self.token2id:\n",
        "          self.token2id[tag]=index\n",
        "          index+=1\n",
        "        #pad with empty char at beginning to have a alignement POS-TAG->''\n",
        "        #inflected_form_chars.insert(0,EMPTY_CHAR)\n",
        "        \n",
        "      #concat to construct final x and y in training data\n",
        "      #input_final=[*msd_tags,*lemma_chars]\n",
        "      input_final=[*lemma_chars,*msd_chars_input]\n",
        "      input_final.insert(0,START_CHAR)\n",
        "      input_final.append(END_CHAR)\n",
        "      inflected_form_chars_final=[*inflected_form_chars,*msd_chars_output]\n",
        "      inflected_form_chars_final.insert(0,START_CHAR)\n",
        "      inflected_form_chars_final.append(END_CHAR)\n",
        "\n",
        "      input.append(input_final)\n",
        "      output.append(inflected_form_chars_final)\n",
        "\n",
        "\n",
        "    # token list\n",
        "    self.id2token = list(self.token2id.keys())\n",
        "    \n",
        "    return input, output, lemmas, msds \n",
        "\n",
        "\n",
        "  def __tokens2id__(self,tokens):\n",
        "      return [self.token2id[token] for token in tokens]\n",
        "\n",
        "\n",
        "  # len of train_data\n",
        "  # must be implemented\n",
        "  def __len__(self):\n",
        "    return len(self.input_id) \n",
        "\n",
        "  # return x and y\n",
        "  # must be implemented\n",
        "  def __getitem__(self, idx):\n",
        "    x = self.input_id[idx]\n",
        "    y = self.output_id[idx]\n",
        "    lemma = self.lemmas[idx]\n",
        "    msd = self.msd[idx]\n",
        "    #tuple (x,y)\n",
        "    return x, y, lemma, msd\n"
      ]
    },
    {
      "cell_type": "code",
      "execution_count": 21,
      "metadata": {
        "id": "Sz82NjtfogHE"
      },
      "outputs": [],
      "source": [
        "train_dataset = MorphoInflectionDataset()\n",
        "train_dataset.create_dataset('./data/finnish-task1-train.txt')\n"
      ]
    },
    {
      "cell_type": "code",
      "execution_count": 22,
      "metadata": {
        "id": "C6IIOo01xP8U",
        "colab": {
          "base_uri": "https://localhost:8080/"
        },
        "outputId": "92037d9d-acec-4bfb-844a-04d5d61b19ea"
      },
      "outputs": [
        {
          "output_type": "execute_result",
          "data": {
            "text/plain": [
              "12693"
            ]
          },
          "metadata": {},
          "execution_count": 22
        }
      ],
      "source": [
        "# data sample count\n",
        "len(train_dataset)"
      ]
    },
    {
      "cell_type": "code",
      "execution_count": 23,
      "metadata": {
        "id": "RNDqRPB2q70_",
        "colab": {
          "base_uri": "https://localhost:8080/"
        },
        "outputId": "296f2e8c-9b6c-405f-e6e0-46d37db6171a"
      },
      "outputs": [
        {
          "output_type": "execute_result",
          "data": {
            "text/plain": [
              "{'': 0,\n",
              " '-': 56,\n",
              " '<': 1,\n",
              " '>': 2,\n",
              " 'a': 20,\n",
              " 'aspect=PROSP': 19,\n",
              " 'b': 55,\n",
              " 'c': 61,\n",
              " 'case=ACC': 52,\n",
              " 'case=COM': 60,\n",
              " 'case=FRML': 27,\n",
              " 'case=GEN': 44,\n",
              " 'case=IN+ABL': 46,\n",
              " 'case=IN+ESS': 30,\n",
              " 'case=IN+LAT': 49,\n",
              " 'case=INS': 53,\n",
              " 'case=NOM': 38,\n",
              " 'case=ON+ABL': 39,\n",
              " 'case=ON+ALL': 50,\n",
              " 'case=ON+ESS': 24,\n",
              " 'case=PRIV': 37,\n",
              " 'case=PRT': 47,\n",
              " 'case=TRANS': 40,\n",
              " 'comp=CMPR': 69,\n",
              " 'comp=SPRL': 70,\n",
              " 'd': 36,\n",
              " 'e': 29,\n",
              " 'f': 59,\n",
              " 'finite=NFIN': 58,\n",
              " 'g': 54,\n",
              " 'h': 42,\n",
              " 'i': 16,\n",
              " 'j': 51,\n",
              " 'k': 4,\n",
              " 'l': 17,\n",
              " 'm': 15,\n",
              " 'mood=COND': 31,\n",
              " 'mood=IMP': 11,\n",
              " 'mood=IND': 43,\n",
              " 'mood=POT': 35,\n",
              " 'mood=PURP': 62,\n",
              " 'n': 8,\n",
              " 'num=PL': 25,\n",
              " 'num=SG': 14,\n",
              " 'o': 21,\n",
              " 'p': 28,\n",
              " 'per=1': 32,\n",
              " 'per=2': 34,\n",
              " 'per=3': 13,\n",
              " 'polar=POS': 10,\n",
              " 'pos=ADJ': 26,\n",
              " 'pos=N': 23,\n",
              " 'pos=V': 9,\n",
              " 'q': 71,\n",
              " 'r': 41,\n",
              " 's': 6,\n",
              " 't': 7,\n",
              " 'tense=PRS': 12,\n",
              " 'tense=PST': 33,\n",
              " 'u': 22,\n",
              " 'v': 45,\n",
              " 'voice=ACT': 18,\n",
              " 'voice=PASS': 57,\n",
              " 'w': 64,\n",
              " 'x': 67,\n",
              " 'y': 48,\n",
              " 'z': 63,\n",
              " 'â': 66,\n",
              " 'ä': 3,\n",
              " 'é': 65,\n",
              " 'ö': 5,\n",
              " 'ü': 68}"
            ]
          },
          "metadata": {},
          "execution_count": 23
        }
      ],
      "source": [
        "# vocabulary\n",
        "train_dataset.token2id"
      ]
    },
    {
      "cell_type": "code",
      "execution_count": 24,
      "metadata": {
        "id": "MjHQlidhrc5M",
        "colab": {
          "base_uri": "https://localhost:8080/"
        },
        "outputId": "eb1d3e7b-1439-4fa7-ba08-c8648b1475d8"
      },
      "outputs": [
        {
          "output_type": "execute_result",
          "data": {
            "text/plain": [
              "['',\n",
              " '<',\n",
              " '>',\n",
              " 'ä',\n",
              " 'k',\n",
              " 'ö',\n",
              " 's',\n",
              " 't',\n",
              " 'n',\n",
              " 'pos=V',\n",
              " 'polar=POS',\n",
              " 'mood=IMP',\n",
              " 'tense=PRS',\n",
              " 'per=3',\n",
              " 'num=SG',\n",
              " 'm',\n",
              " 'i',\n",
              " 'l',\n",
              " 'voice=ACT',\n",
              " 'aspect=PROSP',\n",
              " 'a',\n",
              " 'o',\n",
              " 'u',\n",
              " 'pos=N',\n",
              " 'case=ON+ESS',\n",
              " 'num=PL',\n",
              " 'pos=ADJ',\n",
              " 'case=FRML',\n",
              " 'p',\n",
              " 'e',\n",
              " 'case=IN+ESS',\n",
              " 'mood=COND',\n",
              " 'per=1',\n",
              " 'tense=PST',\n",
              " 'per=2',\n",
              " 'mood=POT',\n",
              " 'd',\n",
              " 'case=PRIV',\n",
              " 'case=NOM',\n",
              " 'case=ON+ABL',\n",
              " 'case=TRANS',\n",
              " 'r',\n",
              " 'h',\n",
              " 'mood=IND',\n",
              " 'case=GEN',\n",
              " 'v',\n",
              " 'case=IN+ABL',\n",
              " 'case=PRT',\n",
              " 'y',\n",
              " 'case=IN+LAT',\n",
              " 'case=ON+ALL',\n",
              " 'j',\n",
              " 'case=ACC',\n",
              " 'case=INS',\n",
              " 'g',\n",
              " 'b',\n",
              " '-',\n",
              " 'voice=PASS',\n",
              " 'finite=NFIN',\n",
              " 'f',\n",
              " 'case=COM',\n",
              " 'c',\n",
              " 'mood=PURP',\n",
              " 'z',\n",
              " 'w',\n",
              " 'é',\n",
              " 'â',\n",
              " 'x',\n",
              " 'ü',\n",
              " 'comp=CMPR',\n",
              " 'comp=SPRL',\n",
              " 'q']"
            ]
          },
          "metadata": {},
          "execution_count": 24
        }
      ],
      "source": [
        "train_dataset.id2token"
      ]
    },
    {
      "cell_type": "code",
      "execution_count": 25,
      "metadata": {
        "id": "Ysewe97drdVT",
        "colab": {
          "base_uri": "https://localhost:8080/"
        },
        "outputId": "c1059ddb-9fc7-451d-f156-0331256399f4"
      },
      "outputs": [
        {
          "output_type": "execute_result",
          "data": {
            "text/plain": [
              "72"
            ]
          },
          "metadata": {},
          "execution_count": 25
        }
      ],
      "source": [
        "# vocabulary size\n",
        "len(train_dataset.token2id)"
      ]
    },
    {
      "cell_type": "code",
      "execution_count": 26,
      "metadata": {
        "id": "8JJMatkdvx81"
      },
      "outputs": [],
      "source": [
        "# DataLoader is useful for batching\n",
        "train_loader = DataLoader(train_dataset, batch_size=64, collate_fn=my_custom_collate)"
      ]
    },
    {
      "cell_type": "markdown",
      "metadata": {
        "id": "7Xi8fJNlBl9u"
      },
      "source": [
        "#3. Model"
      ]
    },
    {
      "cell_type": "code",
      "execution_count": 27,
      "metadata": {
        "id": "oNg156bqOERg"
      },
      "outputs": [],
      "source": [
        "# MorphoInflection_model\n",
        "\n",
        "#help : https://pytorch.org/tutorials/beginner/nlp/sequence_models_tutorial.html\n",
        "#help : https://towardsdatascience.com/a-comprehensive-guide-to-neural-machine-translation-using-seq2sequence-modelling-using-pytorch-41c9b84ba350#2c97\n",
        "#help : https://towardsdatascience.com/choosing-the-right-hyperparameters-for-a-simple-lstm-using-keras-f8e9ed76f046\n",
        "\n",
        "from torch.nn import Module\n",
        "from torch.nn import Embedding\n",
        "from torch.nn import LSTM\n",
        "from torch.nn import Linear\n",
        "from torch.nn import Dropout\n",
        "from torch.nn.functional import softmax\n",
        "\n",
        "\n",
        "class morphological_inflection_seq2seq(Module):\n",
        "\n",
        "  def __init__(self, embedding_dim, hidden_size, vocab_size):\n",
        "    super(morphological_inflection_seq2seq, self).__init__()\n",
        "\n",
        "    # vocabulary size (int)\n",
        "    self.vocab_size = vocab_size\n",
        "\n",
        "    # Embeddings dimensions (int)\n",
        "    self.embedding_size = embedding_dim\n",
        "\n",
        "    # Dimension of the NN's inside the lstm cell (int)\n",
        "    self.hidden_size = hidden_size\n",
        "\n",
        "    #--------------\n",
        "    # Encoder\n",
        "    #--------------\n",
        "    p=0.5\n",
        "    self.input_dropout = Dropout(p)\n",
        "\n",
        "    # Embeddings : create a matrix of VxD\n",
        "    # shape(vocab_size,emb_dim)\n",
        "    # Embedding(72, 10)\n",
        "    self.inputs_embeds = Embedding(num_embeddings=self.vocab_size, embedding_dim=self.embedding_size, padding_idx=0)\n",
        "    \n",
        "\n",
        "    # LSTM(10, 256)\n",
        "    self.lstm_encoder = LSTM(self.embedding_size, self.hidden_size, batch_first=True, dropout=p)\n",
        "\n",
        "    #--------------\n",
        "    # Decoder\n",
        "    #--------------\n",
        "    \n",
        "    # 72\n",
        "    self.output_size = vocab_size\n",
        "    self.output_dropout = Dropout(p)\n",
        "    # Embeddings : create a matrix of VxD\n",
        "    # (vocab_size,emb_dim)\n",
        "    self.output_embeds = Embedding(num_embeddings=self.vocab_size, embedding_dim=self.embedding_size, padding_idx=0)\n",
        "    self.lstm_decoder = LSTM(self.embedding_size, self.hidden_size, batch_first=True, dropout=p)\n",
        "    #linear layer with input = hidden_size\n",
        "    #out_features = voc size -> so that we can apply a softmax activation function\n",
        "    #Linear(in_features=50, out_features=72, bias=True)\n",
        "    self.hidden2vocab = Linear(self.hidden_size, self.vocab_size)\n",
        "\n",
        "\n",
        "  def forward(self, batch, forceTeaching=False):\n",
        "      \n",
        "      # # x : list of n tensor (n=batch_size)\n",
        "      #x[i] : 1 x sample [ 1,  9, 10,  ...,  0,  0,  0]\n",
        "      x,y,_,_ = batch\n",
        "      \n",
        "      #batch_size x seq_len\n",
        "      y_matrix = np.array(y)\n",
        "\n",
        "      #--------------\n",
        "      # Encoder part\n",
        "      #--------------\n",
        "\n",
        "      # Emmbeddings\n",
        "      # torch.Size([batch_size, sequence_len, emb_dim])\n",
        "      # torch.Size([64, 26, 10])\n",
        "      embeds = self.input_dropout(self.inputs_embeds(x))\n",
        "\n",
        "      # pass embeds to lstm\n",
        "      # encoder_outputs : we don't care // torch.Size([batch_size, sequence_len, hidden_dim])\n",
        "      # encoder_hidden_state : last hiddend state which contains our input representation\n",
        "      # encoder_hidden_state: tuple(hidden state,cell state)\n",
        "      # hidden_state/cell_state : torch.Size([1, batch_size, hidden dim]) // torch.Size([1, 64, 50])\n",
        "      # 1 = unidirectionnel, 2 : bidir\n",
        "      encoder_outputs, encoder_hidden_state = self.lstm_encoder(embeds)\n",
        "\n",
        "\n",
        "      #--------------\n",
        "      # Decoder part\n",
        "      #--------------\n",
        "      # y : list of n tensors (n=batch_size)\n",
        "      #y[i] : 1 x sample [1, 0, 0,  ..., 2, 0, 0]\n",
        "      # ex : 26      \n",
        "      sequence_length = y_matrix.shape[1]\n",
        "      batch_size= y_matrix.shape[0]\n",
        "\n",
        "      # decoder lstm will receive hidden_state of encoder\n",
        "      hidden_state = encoder_hidden_state\n",
        "      # tensor for whole outputs --> contains id of predicted inflected form\n",
        "      # shape [seq_len, batch_size, self.vocab_size] //torch.Size([26, 64,72])\n",
        "      outputs = torch.zeros(sequence_length,batch_size,self.vocab_size)\n",
        "\n",
        "      #one char\n",
        "      #shape(batch_size,1)     \n",
        "      token=y[:,[0]]\n",
        "      \n",
        "      # for each char in y, call lstm to predict next char\n",
        "      # teach forcing --> give to next loop gold char (from y) and not predicted char\n",
        "      for i in range(1, sequence_length):\n",
        "\n",
        "        embeds = self.output_dropout(self.output_embeds(token) )\n",
        "        #LSTM layer\n",
        "        #output shape :[batch_size, seq_len, hidden size] torch.Size([64, 1, 50])\n",
        "        output, hidden_state = self.lstm_decoder(embeds, hidden_state)\n",
        "        \n",
        "        \n",
        "        #output : prediction of next token \n",
        "        #shape [batch_size,seq_len, vocab_size] // torch.Size([64, 1, 72])\n",
        "        prediction = self.hidden2vocab(output)\n",
        "\n",
        "        #shape [batch_size, vocab_size] // torch.Size([64, 72])\n",
        "        prediction = prediction.squeeze(1)\n",
        "\n",
        "        #torch.Size([64,72])\n",
        "        prediction_probs = softmax(prediction,1)\n",
        "       \n",
        "        outputs[i]=prediction_probs\n",
        "\n",
        "        # teacher forcing : next input in lstm isn't the predicted token, but the gold token (from y)\n",
        "        if forceTeaching:\n",
        "          token = y[:,[i]] \n",
        "        else:\n",
        "          #next token is the predicted token\n",
        "          token = torch.argmax(prediction_probs,1).view(prediction_probs.shape[0],1)\n",
        "          \n",
        "         \n",
        "\n",
        "\n",
        "      # -->seq_len, batch_size, self.vocab_size\n",
        "      outputs=torch.moveaxis(outputs,0,2)\n",
        "      return outputs\n"
      ]
    },
    {
      "cell_type": "markdown",
      "source": [
        "#4. Training"
      ],
      "metadata": {
        "id": "RMdOXAFueW1n"
      }
    },
    {
      "cell_type": "code",
      "execution_count": null,
      "metadata": {
        "id": "R-eUEsOsUuIQ"
      },
      "outputs": [],
      "source": [
        "##Training\n",
        "\n",
        "from torch.optim import SGD, Adam\n",
        "import matplotlib.pyplot as plt\n",
        "import time\n",
        "from torch.nn import CrossEntropyLoss\n",
        "\n",
        "# Model\n",
        "emb_dim=10\n",
        "hidden_dim=256\n",
        "morpho_inflection_model = morphological_inflection_seq2seq(emb_dim, hidden_dim, train_dataset.vocab_size)\n",
        "\n",
        "# Optimizer\n",
        "optimizer = SGD(morpho_inflection_model.parameters(), lr=0.1)\n",
        "\n",
        "# Loss\n",
        "cross_entropy_loss = CrossEntropyLoss()\n",
        "\n",
        "# Hyper-params\n",
        "num_epochs = 1000\n",
        "\n",
        "# Metrics\n",
        "losses_epoch_train = []\n",
        "\n",
        "\n",
        "\n",
        "# Loop\n",
        "for epoch in range(num_epochs):\n",
        "  \n",
        "  morpho_inflection_model.train()\n",
        "  epoch_loss = 0\n",
        "  correct = 0\n",
        "  total = 0\n",
        "  batch_number=1\n",
        "  \n",
        "  for batch in train_loader:\n",
        "    print(f'Epoch ({epoch+1}/{num_epochs}) -  Batch ({batch_number}/{len(train_loader)}])')   \n",
        "\n",
        "    #batch --> tuples(x,y)\n",
        "    # \"shape\" : (batch_size,2)\n",
        "    # x : list of n tensor (n=batch_size)\n",
        "    #x[i] : 1 x sample [ 1,  9, 10,  ...,  0,  0,  0]\n",
        "    x, y,_,_ = batch\n",
        "\n",
        "    # call of forward function and get the output\n",
        "    # shape [batch_size,vocab_size,seq_len] //torch.Size([64, 72, 26])\n",
        "    y_scores = morpho_inflection_model(batch=batch,forceTeaching=True)\n",
        "\n",
        "    \n",
        "    # compute loss\n",
        "    # input (y_scores) must be [batch_size,number_of_classes,seq_len]\n",
        "    # target (y) must be [batch_size,seq_len]\n",
        "    loss = cross_entropy_loss(y_scores, y)\n",
        "\n",
        "    epoch_loss += loss.item()\n",
        "\n",
        "  \n",
        "    #backpropagation   \n",
        "    loss.backward()\n",
        "    optimizer.step()\n",
        "    optimizer.zero_grad()\n",
        "    batch_number+=1\n",
        "    \n",
        "    \n",
        "\n",
        "  losses_epoch_train.append(epoch_loss/len(train_loader))\n",
        "  \n",
        "  morpho_inflection_model.eval()\n",
        "  torch.save(morpho_inflection_model, './model/model.pth')\n",
        "  np.save('./model/losses_epoch_train.npy', losses_epoch_train)\n",
        "  "
      ]
    },
    {
      "cell_type": "code",
      "execution_count": 28,
      "metadata": {
        "id": "0mz6natT_9PS",
        "colab": {
          "base_uri": "https://localhost:8080/",
          "height": 282
        },
        "outputId": "8d176fa4-09b7-4556-ee9b-fdfa181f9634"
      },
      "outputs": [
        {
          "output_type": "display_data",
          "data": {
            "text/plain": [
              "<Figure size 432x288 with 1 Axes>"
            ],
            "image/png": "[encoded data removed]"
          },
          "metadata": {
            "needs_background": "light"
          }
        }
      ],
      "source": [
        "import numpy as np\n",
        "import matplotlib.pyplot as plt\n",
        "losses_epoch_train=np.load('./model/losses_epoch_train.npy')\n",
        "num_epochs=1000\n",
        "\n",
        "plt.plot(range(num_epochs),losses_epoch_train, label='train')\n",
        "plt.xlabel('Epoch')\n",
        "plt.ylabel('Loss')\n",
        "#plt.savefig('./model/loss.png')\n",
        "plt.show()"
      ]
    },
    {
      "cell_type": "markdown",
      "source": [
        "#5. Evaluation"
      ],
      "metadata": {
        "id": "xeWPdCjiYaLw"
      }
    },
    {
      "cell_type": "code",
      "execution_count": 29,
      "metadata": {
        "id": "NJTd3ddOr_xc",
        "colab": {
          "base_uri": "https://localhost:8080/"
        },
        "outputId": "9d8c45ee-d94f-40fa-dfe2-0263722c039a"
      },
      "outputs": [
        {
          "output_type": "stream",
          "name": "stderr",
          "text": [
            "/usr/local/lib/python3.7/dist-packages/torch/nn/modules/rnn.py:65: UserWarning: dropout option adds dropout after all but last recurrent layer, so non-zero dropout expects num_layers greater than 1, but got dropout=0.5 and num_layers=1\n",
            "  \"num_layers={}\".format(dropout, num_layers))\n"
          ]
        }
      ],
      "source": [
        "from torch import argmax\n",
        "\n",
        "#train_dataset.create_dataset('./data/finnish-task1-train.txt')\n",
        "#train_dataset.create_dataset('./data/finnish-task1-dev')\n",
        "train_loader = DataLoader(train_dataset, batch_size=64, collate_fn=my_custom_collate)\n",
        "\n",
        "emb_dim=10\n",
        "hidden_dim=256\n",
        "morpho_inflection_model = morphological_inflection_seq2seq(emb_dim, hidden_dim, train_dataset.vocab_size)\n",
        "\n",
        "morpho_inflection_model= torch.load('./model/model.pth')\n",
        "morpho_inflection_model.eval()\n",
        "\n",
        "#f = open('./data/finnish-task1-dev-guess', 'w')\n",
        "f = open('./data/finnish-task1-train-guess', 'w')\n",
        "    \n",
        "\n",
        "for batch in train_loader:\n",
        "  x, y,l,m = batch\n",
        "\n",
        "  #torch.Size([64, 72, 26])\n",
        "  y_scores = morpho_inflection_model(batch=batch,forceTeaching=False)\n",
        "    \n",
        "  prediction_string=''\n",
        "  for sample in range(len(x)):\n",
        "    #y_scores for one sample\n",
        "    y_sample=y_scores[sample]\n",
        "\n",
        "    prediction_id=torch.argmax(y_sample,0)\n",
        "    #print(prediction_id)\n",
        "    prediction_array=[train_dataset.id2token[p] for p in prediction_id]\n",
        "    prediction_string=''.join(prediction_array)\n",
        "    if prediction_string=='':\n",
        "      prediction_string='NULL'\n",
        "    f.write(l[sample]+'\\t'+m[sample]+'\\t'+prediction_string+'\\n')\n",
        "\n",
        "  \n",
        "f.close()  \n"
      ]
    },
    {
      "cell_type": "code",
      "source": [
        "!python2.7 evalm.py --golden=./data/finnish-task1-train.txt --guesses=./data/finnish-task1-train-guess"
      ],
      "metadata": {
        "id": "6xpqVJ26ZAbY",
        "colab": {
          "base_uri": "https://localhost:8080/"
        },
        "outputId": "da49f2c1-6eb7-4151-acb3-f91fcc53f127"
      },
      "execution_count": 30,
      "outputs": [
        {
          "output_type": "stream",
          "name": "stdout",
          "text": [
            "N\n",
            "Accuracy: 0.0\n",
            "Mean Levenshtein: 10.3535002008\n",
            "Mean Normalized Levenshtein: 0.804215442593\n",
            "Mean Reciprocal Rank: 0.0\n",
            "\n",
            "ADJ\n",
            "Accuracy: 0.0\n",
            "Mean Levenshtein: 9.57352941176\n",
            "Mean Normalized Levenshtein: 0.81156526334\n",
            "Mean Reciprocal Rank: 0.0\n",
            "\n",
            "V\n",
            "Accuracy: 0.0\n",
            "Mean Levenshtein: 9.29252525253\n",
            "Mean Normalized Levenshtein: 0.815253453371\n",
            "Mean Reciprocal Rank: 0.0\n",
            "\n",
            "Aggregate\n",
            "Accuracy: 0.0\n",
            "Mean Levenshtein: 9.92302844087\n",
            "Mean Normalized Levenshtein: 0.808677532295\n",
            "Mean Reciprocal Rank: 0.0\n"
          ]
        }
      ]
    },
    {
      "cell_type": "code",
      "source": [
        "!python2.7 evalm.py --golden=./data/finnish-task1-dev --guesses=./data/finnish-task1-dev-guess"
      ],
      "metadata": {
        "id": "z8W8MAixIstY",
        "colab": {
          "base_uri": "https://localhost:8080/"
        },
        "outputId": "29ceeda5-3c80-48b2-9a98-1b22295eb98c"
      },
      "execution_count": 31,
      "outputs": [
        {
          "output_type": "stream",
          "name": "stdout",
          "text": [
            "N\n",
            "Accuracy: 0.0\n",
            "Mean Levenshtein: 10.5088819227\n",
            "Mean Normalized Levenshtein: 0.801755787863\n",
            "Mean Reciprocal Rank: 0.0\n",
            "\n",
            "ADJ\n",
            "Accuracy: 0.0\n",
            "Mean Levenshtein: 8.83333333333\n",
            "Mean Normalized Levenshtein: 0.754135524969\n",
            "Mean Reciprocal Rank: 0.0\n",
            "\n",
            "V\n",
            "Accuracy: 0.0\n",
            "Mean Levenshtein: 9.42314049587\n",
            "Mean Normalized Levenshtein: 0.838341760564\n",
            "Mean Reciprocal Rank: 0.0\n",
            "\n",
            "Aggregate\n",
            "Accuracy: 0.0\n",
            "Mean Levenshtein: 10.0600750939\n",
            "Mean Normalized Levenshtein: 0.814534376111\n",
            "Mean Reciprocal Rank: 0.0\n"
          ]
        }
      ]
    }
  ],
  "metadata": {
    "colab": {
      "collapsed_sections": [],
      "name": "METL_Inflection.ipynb",
      "provenance": [],
      "authorship_tag": "ABX9TyPlK2kRNAJw3vO+ffAg5Cqc",
      "include_colab_link": true
    },
    "kernelspec": {
      "display_name": "Python 3",
      "name": "python3"
    },
    "language_info": {
      "name": "python"
    }
  },
  "nbformat": 4,
  "nbformat_minor": 0
}